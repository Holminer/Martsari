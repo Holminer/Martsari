{
 "cells": [
  {
   "cell_type": "markdown",
   "metadata": {},
   "source": [
    "# WSG-84 GPS data to local ENU\n",
    "- Calculates ENU coordinates for \"Raw Data.cvs\" file in same folder\n",
    "- Raw data should come from PhyPhox app GPS-measurement\n",
    "- csv-file should be formatted as tab as delimeter and decimal comma"
   ]
  },
  {
   "cell_type": "code",
   "execution_count": null,
   "metadata": {},
   "outputs": [],
   "source": [
    "import numpy as np\n",
    "import pandas as pd\n",
    "import pymap3d as pm\n",
    "\n",
    "df = pd.read_csv(\"Raw Data.csv\",sep=\"\\t\",decimal=\",\")\n",
    "df = df.drop(['Altitude (m)','Direction (°)','Satellites'],axis=1)\n",
    "\n",
    "df[\"East (m)\"] = np.nan\n",
    "df[\"North (m)\"] = np.nan\n",
    "df[\"Up (m)\"] = np.nan\n",
    "\n",
    "ref = df.mean(axis=0)\n",
    "lat_ref = ref[1]\n",
    "lon_ref = ref[2]\n",
    "h_ref = ref[4]\n",
    "\n",
    "for i, row in df.iterrows():\n",
    "    lat = row['Latitude (°)']\n",
    "    lon = row['Longitude (°)']\n",
    "    h = h_ref\n",
    "    row[\"East (m)\"],row[\"North (m)\"],row[\"Up (m)\"] = pm.geodetic2enu(lat,lon,h,lat_ref,lon_ref,h_ref)\n",
    "\n",
    "df.to_csv('GPSdata.csv')"
   ]
  }
 ],
 "metadata": {
  "kernelspec": {
   "display_name": "Python 3",
   "language": "python",
   "name": "python3"
  },
  "language_info": {
   "codemirror_mode": {
    "name": "ipython",
    "version": 3
   },
   "file_extension": ".py",
   "mimetype": "text/x-python",
   "name": "python",
   "nbconvert_exporter": "python",
   "pygments_lexer": "ipython3",
   "version": "3.6.1"
  }
 },
 "nbformat": 4,
 "nbformat_minor": 2
}
