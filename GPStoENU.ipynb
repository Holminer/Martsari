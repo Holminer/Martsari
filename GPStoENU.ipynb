{
 "cells": [
  {
   "cell_type": "markdown",
   "metadata": {},
   "source": [
    "# WSG-84 GPS data to local ENU\n",
    "- Calculates ENU coordinates for \"Raw Data.cvs\" file in same folder\n",
    "- Raw data should come from PhyPhox app GPS-measurement"
   ]
  },
  {
   "cell_type": "code",
   "execution_count": null,
   "metadata": {},
   "outputs": [],
   "source": [
    "import math\n",
    "import numpy as np\n",
    "import pandas as pd"
   ]
  },
  {
   "cell_type": "code",
   "execution_count": null,
   "metadata": {},
   "outputs": [],
   "source": [
    "def geodetic_to_ecef(lat, lon, h):\n",
    "    # These functions is based on sbarratt geo.py\n",
    "    # https://gist.github.com/sbarratt/a72bede917b482826192bf34f9ff5d0b\n",
    "    # (lat, lon) in WSG-84 degrees\n",
    "    # h in meters\n",
    "    a = 6378137\n",
    "    b = 6356752.3142\n",
    "    f = (a - b) / a\n",
    "    e_sq = f * (2-f)\n",
    "    \n",
    "    lamb = math.radians(lat)\n",
    "    phi = math.radians(lon)\n",
    "    s = math.sin(lamb)\n",
    "    N = a / math.sqrt(1 - e_sq * s * s)\n",
    "\n",
    "    sin_lambda = math.sin(lamb)\n",
    "    cos_lambda = math.cos(lamb)\n",
    "    sin_phi = math.sin(phi)\n",
    "    cos_phi = math.cos(phi)\n",
    "\n",
    "    x = (h + N) * cos_lambda * cos_phi\n",
    "    y = (h + N) * cos_lambda * sin_phi\n",
    "    z = (h + (1 - e_sq) * N) * sin_lambda\n",
    "\n",
    "    return x, y, z\n",
    "\n",
    "def ecef_to_enu(x, y, z, lat0, lon0, h0):\n",
    "    a = 6378137\n",
    "    b = 6356752.3142\n",
    "    f = (a - b) / a\n",
    "    e_sq = f * (2-f)\n",
    "        \n",
    "    lamb = math.radians(lat0)\n",
    "    phi = math.radians(lon0)\n",
    "    s = math.sin(lamb)\n",
    "    N = a / math.sqrt(1 - e_sq * s * s)\n",
    "\n",
    "    sin_lambda = math.sin(lamb)\n",
    "    cos_lambda = math.cos(lamb)\n",
    "    sin_phi = math.sin(phi)\n",
    "    cos_phi = math.cos(phi)\n",
    "\n",
    "    x0 = (h0 + N) * cos_lambda * cos_phi\n",
    "    y0 = (h0 + N) * cos_lambda * sin_phi\n",
    "    z0 = (h0 + (1 - e_sq) * N) * sin_lambda\n",
    "\n",
    "    xd = x - x0\n",
    "    yd = y - y0\n",
    "    zd = z - z0\n",
    "\n",
    "    xEast = -sin_phi * xd + cos_phi * yd\n",
    "    yNorth = -cos_phi * sin_lambda * xd - sin_lambda * sin_phi * yd + cos_lambda * zd\n",
    "    zUp = cos_lambda * cos_phi * xd + cos_lambda * sin_phi * yd + sin_lambda * zd\n",
    "\n",
    "    return xEast, yNorth, zUp\n",
    "\n",
    "def geodetic_to_enu(lat, lon, h, lat_ref, lon_ref, h_ref):\n",
    "    x, y, z = geodetic_to_ecef(lat, lon, h)\n",
    "    \n",
    "    return ecef_to_enu(x, y, z, lat_ref, lon_ref, h_ref)"
   ]
  },
  {
   "cell_type": "code",
   "execution_count": null,
   "metadata": {},
   "outputs": [],
   "source": [
    "df = pd.read_csv(\"Raw Data.csv\",sep=\"\\t\",decimal=\",\")\n",
    "df = df.drop(['Altitude (m)','Direction (°)','Satellites'],axis=1)\n",
    "\n",
    "df[\"East\"] = np.nan\n",
    "df[\"North\"] = np.nan\n",
    "df[\"Up\"] = np.nan\n",
    "\n",
    "ref = df.mean(axis=0)\n",
    "lat_ref = ref[1]\n",
    "lon_ref = ref[2]\n",
    "h_ref = ref[4]\n",
    "\n",
    "for i, row in df.iterrows():\n",
    "    lat = row['Latitude (°)']\n",
    "    lon = row['Longitude (°)']\n",
    "    h = row['Altitude WGS84 (m)']\n",
    "    row[\"East\"],row[\"North\"],row[\"Up\"] = geodetic_to_enu(lat,lon,h,lat_ref,lon_ref,h_ref)\n",
    "\n",
    "df.to_csv('GPSdata.csv')"
   ]
  }
 ],
 "metadata": {
  "kernelspec": {
   "display_name": "Python 3",
   "language": "python",
   "name": "python3"
  },
  "language_info": {
   "codemirror_mode": {
    "name": "ipython",
    "version": 3
   },
   "file_extension": ".py",
   "mimetype": "text/x-python",
   "name": "python",
   "nbconvert_exporter": "python",
   "pygments_lexer": "ipython3",
   "version": "3.6.1"
  }
 },
 "nbformat": 4,
 "nbformat_minor": 2
}
