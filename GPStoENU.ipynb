{
 "cells": [
  {
   "cell_type": "markdown",
   "metadata": {},
   "source": [
    "# WSG-84 GPS data to local ENU\n",
    "- Calculates ENU coordinates for \"Raw Data.cvs\" file in same folder\n",
    "- Raw data should come from PhyPhox app GPS-measurement\n",
    "- csv-file should be formatted as tab as delimeter and decimal comma"
   ]
  },
  {
   "cell_type": "code",
   "execution_count": null,
   "metadata": {},
   "outputs": [],
   "source": [
    "import numpy as np\n",
    "import pandas as pd\n",
    "import pymap3d as pm\n",
    "\n",
    "df = pd.read_csv(\"Raw Data.csv\",sep=\"\\t\",decimal=\",\")\n",
    "df = df.drop(['Altitude (m)','Direction (°)','Satellites'],axis=1)\n",
    "\n",
    "df[\"East (m)\"] = np.nan\n",
    "df[\"North (m)\"] = np.nan\n",
    "df[\"Up (m)\"] = np.nan\n",
    "\n",
    "ref = df.mean(axis=0)\n",
    "lat_ref = ref.iloc[1]\n",
    "lon_ref = ref.iloc[2]\n",
    "h_ref = ref.iloc[3]\n",
    "\n",
    "for i, row in df.iterrows():\n",
    "    lat = row['Latitude (°)']\n",
    "    lon = row['Longitude (°)']\n",
    "    h = row['Altitude WGS84 (m)']\n",
    "    e, n, u = pm.geodetic2enu(lat, lon, h, lat_ref, lon_ref, h_ref)\n",
    "    df.loc[i, \"East (m)\"] = e\n",
    "    df.loc[i, \"North (m)\"] = n\n",
    "    df.loc[i, \"Up (m)\"] = u\n",
    "\n",
    "df.to_csv('GPSdata.csv', index=False)"
   ]
  },
  {
   "cell_type": "code",
   "execution_count": null,
   "metadata": {
    "tags": []
   },
   "outputs": [],
   "source": [
    "from ipyleaflet import Map, AntPath\n",
    "\n",
    "center = (lat_ref, lon_ref)\n",
    "m = Map(center=center, zoom=15)\n",
    "\n",
    "path = []\n",
    "for lat,lon in zip(df['Latitude (°)'],df['Longitude (°)']):\n",
    "    path.append([lat,lon])\n",
    "\n",
    "ant_path = AntPath(\n",
    "    locations=path,\n",
    "    dash_array=[1, 10],\n",
    "    delay=2000,\n",
    "    color='#7590ba',\n",
    "    pulse_color='#3f6fba'\n",
    ")\n",
    "\n",
    "m.add_layer(ant_path)\n",
    "\n",
    "display(m)"
   ]
  }
 ],
 "metadata": {
  "kernelspec": {
   "display_name": "Python 3 (ipykernel)",
   "language": "python",
   "name": "python3"
  },
  "language_info": {
   "codemirror_mode": {
    "name": "ipython",
    "version": 3
   },
   "file_extension": ".py",
   "mimetype": "text/x-python",
   "name": "python",
   "nbconvert_exporter": "python",
   "pygments_lexer": "ipython3",
   "version": "3.10.12"
  }
 },
 "nbformat": 4,
 "nbformat_minor": 4
}
