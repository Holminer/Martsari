{
 "cells": [
  {
   "cell_type": "markdown",
   "metadata": {},
   "source": [
    "# Tupper's self-referential formula\n",
    "\n",
    "- [Wikipedia](https://en.wikipedia.org/wiki/Tupper%27s_self-referential_formula)\n",
    "- Bitmapping [source](https://github.com/KeelyHill/tuppers-formula) and [implementation](http://keelyhill.github.io/tuppers-formula/)\n",
    "- "
   ]
  },
  {
   "cell_type": "code",
   "execution_count": 32,
   "metadata": {},
   "outputs": [],
   "source": [
    "import numpy as np\n",
    "import matplotlib.pyplot as plt"
   ]
  },
  {
   "cell_type": "code",
   "execution_count": 44,
   "metadata": {},
   "outputs": [],
   "source": [
    "# Global dimensions of the board\n",
    "H, W = 17, 106"
   ]
  },
  {
   "cell_type": "code",
   "execution_count": 101,
   "metadata": {},
   "outputs": [],
   "source": [
    "def tupper(x, y):\n",
    "    \"\"\"\n",
    "    Tupper's everything-function. Works with numpy arrays\n",
    "    :param x: 1d-array. X-coordinates\n",
    "    :param y: 1d-array. Y-coordinates\n",
    "    :return: 2d array of bools.\n",
    "    \"\"\"\n",
    "    return 0.5 < ((y//H) // (2**(H*x + y%H))) % 2"
   ]
  },
  {
   "cell_type": "code",
   "execution_count": 104,
   "metadata": {},
   "outputs": [
    {
     "data": {
      "image/png": "[encoded data removed]",
      "text/plain": [
       "<Figure size 432x288 with 1 Axes>"
      ]
     },
     "metadata": {},
     "output_type": "display_data"
    }
   ],
   "source": [
    "h, w = H, W\n",
    "# k to plot Tupper's Self-Referential Formula\n",
    "k = 960939379918958884971672962127852754715004339660129306651505519271702802395266424689642842174350718121267153782770623355993237280874144307891325963941337723487857735749823926629715517173716995165232890538221612403238855866184013235585136048828693337902491454229288667081096184496091705183454067827731551705405381627380967602565625016981482083418783163849115590225610003652351370343874461848378737238198224849863465033159410054974700593138339226497249461751545728366702369745461014655997933798537483143786841806593422227898388722980000748404719\n",
    "\n",
    "x = np.arange(w)[:, np.newaxis]\n",
    "y = np.arange(h)[np.newaxis, :]\n",
    "bin_map = tupper(x, y+k*h)\n",
    "\n",
    "# yticks = range(0, h+1, 17)\n",
    "# plt.yticks(yticks, ['K']+['K + %d'%i for i in yticks][1:])\n",
    "\n",
    "plt.imshow(np.rot90(bin_map), plt.cm.Greys)\n",
    "plt.show()\n",
    "# plt.savefig('tupper.png')"
   ]
  },
  {
   "cell_type": "code",
   "execution_count": 97,
   "metadata": {},
   "outputs": [],
   "source": [
    "from PIL import Image\n",
    "# Tupper\n",
    "k1=4858450636189713423582095962494202044581400587983244549483093085061934704708809928450644769865524364849997247024915119110411605739177407856919754326571855442057210445735883681829823754139634338225199452191651284348332905131193199953502413758765239264874613394906870130562295813219481113685339535565290850023875092856892694555974281546386510730049106723058933586052544096664351265349363643957125565695936815184334857605266940161251266951421550539554519153785457525756590740540157929001765967965480064427829131488548259914721248506352686630476300\n",
    "\n",
    "\n",
    "# Pacman\n",
    "k2=144520248970897582847942537337194567481277782215150702479718813968549088735682987348888251320905766438178883231976923440016667764749242125128995265907053708020473915320841631792025549005418004768657201699730466383394901601374319715520996181145249781945019068359500510657804325640801197867556863142280259694206254096081665642417367403946384170774537427319606443899923010379398938675025786929455234476319291860957618345432248004921728033349419816206749854472038193939738513848960476759782673313437697051994580681869819330446336774047268864\n",
    "\n",
    "\n",
    "# Euler\n",
    "k3=2352035939949658122140829649197960929306974813625028263292934781954073595495544614140648457342461564887325223455620804204796011434955111022376601635853210476633318991990462192687999109308209472315419713652238185967518731354596984676698288025582563654632501009155760415054499960\n",
    "\n",
    "# Assign k1,k2, k3 to k to get desired image\n",
    "k = k1\n",
    "width = 106\n",
    "height = 17\n",
    "scale = 5\n",
    "\n",
    "fname = \"foo\"\n",
    "image  = Image.new(\"RGB\", (width, height),(255, 255, 255))\n",
    "\n",
    "for x in range (width):\n",
    "    for y in range (height):\n",
    "        if ((k+y)//17//2**(17*int(x)+int(y)%17))%2 > 0.5:\n",
    "            # Image need to be flipped vertically - therefore y = height-y-1\n",
    "            image.putpixel((x, height-y-1), (0,0,0))\n",
    "\n",
    "\n",
    "#scale up image\n",
    "image = image.resize((width*scale,height*scale))\n",
    "image.save(fname+\".png\")"
   ]
  }
 ],
 "metadata": {
  "kernelspec": {
   "display_name": "Python 3",
   "language": "python",
   "name": "python3"
  },
  "language_info": {
   "codemirror_mode": {
    "name": "ipython",
    "version": 3
   },
   "file_extension": ".py",
   "mimetype": "text/x-python",
   "name": "python",
   "nbconvert_exporter": "python",
   "pygments_lexer": "ipython3",
   "version": "3.6.1"
  }
 },
 "nbformat": 4,
 "nbformat_minor": 2
}
